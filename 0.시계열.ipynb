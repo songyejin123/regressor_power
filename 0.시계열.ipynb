{
 "cells": [
  {
   "cell_type": "markdown",
   "id": "2dfb83c8-823c-4bb6-af81-6d0c31029866",
   "metadata": {},
   "source": [
    "## 라이브러리 불러오기"
   ]
  },
  {
   "cell_type": "code",
   "execution_count": 1,
   "id": "13dbba5d-ad43-4f4e-a974-f5ef8866b743",
   "metadata": {},
   "outputs": [],
   "source": [
    "import random\n",
    "import pandas as pd\n",
    "import numpy as np\n",
    "import os\n",
    "\n",
    "# 사이킷런에서 랜덤포레스트 모델 불러오기\n",
    "from sklearn.ensemble import RandomForestRegressor\n",
    "\n",
    "# 경고 메세지 무시하기\n",
    "import warnings\n",
    "warnings.filterwarnings(action='ignore') "
   ]
  },
  {
   "cell_type": "code",
   "execution_count": 2,
   "id": "6d84cebe-4fd1-454f-b00f-df31b87ce780",
   "metadata": {},
   "outputs": [
    {
     "name": "stdout",
     "output_type": "stream",
     "text": [
      "Defaulting to user installation because normal site-packages is not writeable\n",
      "Requirement already satisfied: koreanize_matplotlib in /home/jupyter-user01/.local/lib/python3.10/site-packages (0.1.1)\n",
      "Requirement already satisfied: matplotlib in /home/jupyter-user01/.local/lib/python3.10/site-packages (from koreanize_matplotlib) (3.8.0)\n",
      "Requirement already satisfied: contourpy>=1.0.1 in /home/jupyter-user01/.local/lib/python3.10/site-packages (from matplotlib->koreanize_matplotlib) (1.1.1)\n",
      "Requirement already satisfied: cycler>=0.10 in /home/jupyter-user01/.local/lib/python3.10/site-packages (from matplotlib->koreanize_matplotlib) (0.12.1)\n",
      "Requirement already satisfied: fonttools>=4.22.0 in /home/jupyter-user01/.local/lib/python3.10/site-packages (from matplotlib->koreanize_matplotlib) (4.43.1)\n",
      "Requirement already satisfied: kiwisolver>=1.0.1 in /home/jupyter-user01/.local/lib/python3.10/site-packages (from matplotlib->koreanize_matplotlib) (1.4.5)\n",
      "Requirement already satisfied: numpy<2,>=1.21 in /home/jupyter-user01/.local/lib/python3.10/site-packages (from matplotlib->koreanize_matplotlib) (1.23.5)\n",
      "Requirement already satisfied: packaging>=20.0 in /opt/tljh/user/lib/python3.10/site-packages (from matplotlib->koreanize_matplotlib) (23.2)\n",
      "Requirement already satisfied: pillow>=6.2.0 in /home/jupyter-user01/.local/lib/python3.10/site-packages (from matplotlib->koreanize_matplotlib) (10.1.0)\n",
      "Requirement already satisfied: pyparsing>=2.3.1 in /home/jupyter-user01/.local/lib/python3.10/site-packages (from matplotlib->koreanize_matplotlib) (3.1.1)\n",
      "Requirement already satisfied: python-dateutil>=2.7 in /opt/tljh/user/lib/python3.10/site-packages (from matplotlib->koreanize_matplotlib) (2.8.2)\n",
      "Requirement already satisfied: six>=1.5 in /opt/tljh/user/lib/python3.10/site-packages (from python-dateutil>=2.7->matplotlib->koreanize_matplotlib) (1.16.0)\n"
     ]
    }
   ],
   "source": [
    "import matplotlib.pyplot as plt\n",
    "\n",
    "# 브라우저에서 바로 그려지도록(그래프가 화면에 뜨지 않을 때)\n",
    "%matplotlib inline\n",
    "\n",
    "# 그래프(figure)에 retina display 적용\n",
    "%config InlineBackend.figure_format = 'retina'\n",
    "\n",
    "# Colab 의 한글 폰트 설정(나눔고딕체)\n",
    "plt.rc('font', family='NanumGothic')\n",
    "\n",
    "# 조용하 강사님이 올려주신 코드(한글화-matplotlib)\n",
    "!pip install koreanize_matplotlib\n",
    "import koreanize_matplotlib"
   ]
  },
  {
   "cell_type": "markdown",
   "id": "2d12e3c5-fcf4-4288-b269-e6830422ab2c",
   "metadata": {},
   "source": [
    "## 데이터 불러오기"
   ]
  },
  {
   "cell_type": "code",
   "execution_count": 3,
   "id": "1afd093e-434f-491b-b9de-83d4370ac41e",
   "metadata": {},
   "outputs": [],
   "source": [
    "train = pd.read_csv('train.csv',encoding='cp949')\n",
    "test = pd.read_csv('test.csv',encoding='cp949')\n",
    "submission=pd.read_csv('sample_submission.csv',encoding='cp949')"
   ]
  },
  {
   "cell_type": "code",
   "execution_count": 4,
   "id": "fe157e0b-9f4c-4a69-8d5d-48118841a9ce",
   "metadata": {},
   "outputs": [],
   "source": [
    "# 컬럼명 변환을 위한 리스트 할당\n",
    "train_col = ['num', 'date_time', 'power', 'temp', 'wind', 'hum', 'rain', 'sun', 'cooler', 'solar']\n",
    "test_col = ['num', 'date_time', 'temp', 'wind', 'hum', 'rain', 'sun', 'cooler', 'solar']\n",
    "train.columns=train_col\n",
    "test.columns=test_col"
   ]
  },
  {
   "cell_type": "markdown",
   "id": "710f19f4-3a05-4885-9f2e-fd23ff2fe57a",
   "metadata": {},
   "source": [
    "## 전처리"
   ]
  },
  {
   "cell_type": "markdown",
   "id": "f5e58f34-cef0-477a-a852-70bd0205d0f4",
   "metadata": {},
   "source": [
    "### 날짜 전처리\n",
    "\n",
    "- 파생변수, 데이터 타입 변경"
   ]
  },
  {
   "cell_type": "code",
   "execution_count": 5,
   "id": "07480721-a98e-4aba-9b10-70e7fdb69172",
   "metadata": {},
   "outputs": [],
   "source": [
    "def make_time(train):\n",
    "    \"\"\"\n",
    "    시간 관련 변수를 추가하기 위한 함수\n",
    "    \"\"\"\n",
    "    train['date_time'] = pd.to_datetime(train.date_time)\n",
    "    \n",
    "    train['month'] = train.date_time.dt.month                    # 월(숫자)\n",
    "    train['day'] = train.date_time.dt.day                        # 일(숫자)\n",
    "    train['hour'] = train.date_time.dt.hour                      # 시(숫자)\n",
    "    train['weekday'] = train.date_time.dt.weekday                # 요일(숫자)\n",
    "    train['dayofyear'] = train.date_time.dt.dayofyear            # 연 기준 몇일째(숫자)\n",
    "    #train['week']=train.date_time.dt.weekofyear\n",
    "    \n",
    "    ## cyclical encoding\n",
    "    train['sin_time'] = np.sin(2*np.pi*train.hour/24)\n",
    "    train['cos_time'] = np.cos(2*np.pi*train.hour/24)\n",
    "    \n",
    "    ### 공휴일 변수 추가\n",
    "    train['holiday'] = train.apply(lambda x : 0 if x['day']<5 else 1, axis = 1)\n",
    "    train.loc[('2020-08-17'<=train.date_time)&(train.date_time<'2020-08-18'), 'holiday'] = 1\n",
    "    \n",
    "    \n",
    "    ### 날씨 변수 추가\n",
    "    train['THI'] = 1.9*train['temp'] - 0.55*(1-train['hum'])*(1.8*train['temp']-26)+32                                # 불쾌지수\n",
    "    train['chill']=13.12+0.6215*train['temp']-11.37*train['wind']**0.16+0.3965*train['wind']**0.16*train['temp']        # 체감온도\n",
    "    \n",
    "    train['냉방도시'] = 0  # 냉방이 필요하지 않은 도시로 초기화\n",
    "\n",
    "    # 여름 동안 냉방이 필요한 도시로 설정\n",
    "    train.loc[(train['temp'] > 30) & (train['hum'] > 70), '냉방도시'] = 1\n",
    "    \n",
    "    return train"
   ]
  },
  {
   "cell_type": "markdown",
   "id": "9e372e62-322f-4412-8d3c-252678405f50",
   "metadata": {},
   "source": [
    "### 날씨 전처리\n",
    "\n",
    "- 파생변수, 결측치"
   ]
  },
  {
   "cell_type": "code",
   "execution_count": 6,
   "id": "608a1198-cdb3-414e-8ec2-ed3f81af9702",
   "metadata": {},
   "outputs": [],
   "source": [
    "def make_nan(test):\n",
    "    \"\"\"\n",
    "    날씨 관련 결측치를 처리하기 위한 함수\n",
    "    \"\"\"\n",
    "    \n",
    "    # 결측치 처리\n",
    "    test['wind']=test['wind'].interpolate(method='linear')\n",
    "    test['rain']=test['rain'].interpolate(method='linear')\n",
    "    test['sun']=test['sun'].interpolate(method='linear')\n",
    "    \n",
    "    test['temp']=test['temp'].interpolate(method='polynomial',order=3).fillna(method='ffill')\n",
    "    test['hum']=test['hum'].interpolate(method='polynomial',order=3).fillna(method='ffill')\n",
    "    \n",
    "    test['cooler']=test['cooler'].fillna(0)\n",
    "    test['solar']=test['solar'].fillna(0)\n",
    "    \n",
    "    return test"
   ]
  },
  {
   "cell_type": "code",
   "execution_count": 7,
   "id": "4db8e917-cb8d-4e00-8683-dae23e7000da",
   "metadata": {},
   "outputs": [],
   "source": [
    "def make_weather(data):\n",
    "    weather=data.groupby(['num','dayofyear'])['temp'].agg({'max','min','mean'}).reset_index()\n",
    "    weather['temp_range']=weather['max']-weather['min']\n",
    "    \n",
    "    data=pd.merge(data,weather,on=['num','dayofyear'],how='left')\n",
    "    return data\n",
    "    "
   ]
  },
  {
   "cell_type": "code",
   "execution_count": 8,
   "id": "0ce19efc-7e47-493b-aa3b-6928a5daebbc",
   "metadata": {},
   "outputs": [],
   "source": [
    "train = make_time(train)\n",
    "test=make_nan(test)\n",
    "test = make_time(test)\n",
    "train = make_weather(train)\n",
    "test=make_weather(test)"
   ]
  },
  {
   "cell_type": "markdown",
   "id": "d683f255-961a-4950-8024-e341d92acdf4",
   "metadata": {},
   "source": [
    "### 전력사용량 전처리\n",
    "\n",
    "- 파생변수"
   ]
  },
  {
   "cell_type": "code",
   "execution_count": 14,
   "id": "c9fb89d7-419d-4e92-8bcc-e982096e5871",
   "metadata": {},
   "outputs": [],
   "source": [
    "from tqdm import tqdm\n",
    "\n",
    "power_mean = pd.pivot_table(train, values = 'power', index = ['num', 'hour', 'day'], aggfunc = np.mean).reset_index()\n",
    "power_hour_mean = pd.pivot_table(train, values = 'power', index = ['num', 'hour'], aggfunc = np.mean).reset_index()\n",
    "power_hour_std = pd.pivot_table(train, values = 'power', index = ['num', 'hour'], aggfunc = np.std).reset_index()\n",
    "\n",
    "def make_power(data):\n",
    "    \n",
    "    # 건물별, 요일별, 시간별 발전량 평균\n",
    "    #power_mean = pd.pivot_table(data, values = 'power', index = ['num', 'hour', 'day'], aggfunc = np.mean).reset_index()\n",
    "    tqdm.pandas()\n",
    "    data['day_hour_mean'] = data.progress_apply(lambda x : power_mean.loc[(power_mean.num == x['num']) & (power_mean.hour == x['hour']) & (power_mean.day == x['day']) ,'power'].values[0], axis = 1)\n",
    "    \n",
    "    # 건물별 시간별 발전량 평균 넣어주기\n",
    "    #power_hour_mean = pd.pivot_table(data, values = 'power', index = ['num', 'hour'], aggfunc = np.mean).reset_index()\n",
    "    tqdm.pandas()\n",
    "    data['hour_mean'] = data.progress_apply(lambda x : power_hour_mean.loc[(power_hour_mean.num == x['num']) & (power_hour_mean.hour == x['hour']) ,'power'].values[0], axis = 1)\n",
    "    \n",
    "    # 건물별 시간별 발전량 표준편차 넣어주기\n",
    "    #power_hour_std = pd.pivot_table(data, values = 'power', index = ['num', 'hour'], aggfunc = np.std).reset_index()\n",
    "    data['hour_std'] = data.progress_apply(lambda x : power_hour_std.loc[(power_hour_std.num == x['num']) & (power_hour_std.hour == x['hour']) ,'power'].values[0], axis = 1)\n",
    "    return data"
   ]
  },
  {
   "cell_type": "code",
   "execution_count": 15,
   "id": "cf92f7a0-c25b-43fe-907d-31ae8402b072",
   "metadata": {},
   "outputs": [
    {
     "name": "stderr",
     "output_type": "stream",
     "text": [
      "100%|██████████| 122400/122400 [01:02<00:00, 1963.42it/s]\n",
      "100%|██████████| 122400/122400 [00:36<00:00, 3324.45it/s]\n",
      "100%|██████████| 122400/122400 [00:36<00:00, 3340.31it/s]\n"
     ]
    }
   ],
   "source": [
    "train = make_power(train)"
   ]
  },
  {
   "cell_type": "code",
   "execution_count": 16,
   "id": "ddbab3c3-742f-4970-acb6-6080fcad09c3",
   "metadata": {},
   "outputs": [
    {
     "name": "stderr",
     "output_type": "stream",
     "text": [
      "100%|██████████| 10080/10080 [00:05<00:00, 1920.96it/s]\n",
      "100%|██████████| 10080/10080 [00:02<00:00, 3366.73it/s]\n",
      "100%|██████████| 10080/10080 [00:02<00:00, 3362.69it/s]\n"
     ]
    }
   ],
   "source": [
    "test=make_power(test)"
   ]
  },
  {
   "cell_type": "markdown",
   "id": "bd6d8c67-5a91-4243-9a06-d5d8258c7acb",
   "metadata": {},
   "source": [
    "# 시계열 관련 모델"
   ]
  },
  {
   "cell_type": "markdown",
   "id": "f4bec897-d578-47ea-8b54-3f7f9509f0bb",
   "metadata": {
    "jp-MarkdownHeadingCollapsed": true
   },
   "source": [
    "## Prophet모델"
   ]
  },
  {
   "cell_type": "code",
   "execution_count": null,
   "id": "ea2316ad-0f3b-4abe-8372-6443a548495a",
   "metadata": {},
   "outputs": [],
   "source": [
    "import random\n",
    "import pandas as pd\n",
    "import numpy as np\n",
    "import os\n",
    "\n",
    "# 사이킷런에서 랜덤포레스트 모델 불러오기\n",
    "from sklearn.ensemble import RandomForestRegressor\n",
    "\n",
    "# 경고 메세지 무시하기\n",
    "import warnings\n",
    "warnings.filterwarnings(action='ignore')"
   ]
  },
  {
   "cell_type": "markdown",
   "id": "0c8dd271-a01d-49ac-abbb-2908147c7153",
   "metadata": {},
   "source": [
    "!pip install koreanize_matplotlib"
   ]
  },
  {
   "cell_type": "code",
   "execution_count": null,
   "id": "51fbfe86-0849-4386-a7dd-ecd8ad3b8ba4",
   "metadata": {},
   "outputs": [],
   "source": [
    "import matplotlib.pyplot as plt\n",
    "\n",
    "# 브라우저에서 바로 그려지도록(그래프가 화면에 뜨지 않을 때)\n",
    "%matplotlib inline\n",
    "\n",
    "# 그래프(figure)에 retina display 적용\n",
    "%config InlineBackend.figure_format = 'retina'\n",
    "\n",
    "# Colab 의 한글 폰트 설정(나눔고딕체)\n",
    "plt.rc('font', family='NanumGothic')\n",
    "\n",
    "# 조용하 강사님이 올려주신 코드(한글화-matplotlib)\n",
    "import koreanize_matplotlib"
   ]
  },
  {
   "cell_type": "code",
   "execution_count": null,
   "id": "ff5ac0fa-00af-45d0-95fd-547288d5fcd6",
   "metadata": {},
   "outputs": [],
   "source": [
    "if 'google.colab' in str(get_ipython()):\n",
    "    ! pip install git+https://github.com/ourownstory/neural_prophet.git # 코랩 구동 시 패키지 설치\n",
    "    # pip install neuralprophet\n",
    "    # 간단하고 빠르게 설치할 수 있지만, 최신 버전에서의 버그가 발생할 수 있음"
   ]
  },
  {
   "cell_type": "code",
   "execution_count": null,
   "id": "abe3f173-4d3e-4b2d-b75f-a9ecb0135522",
   "metadata": {},
   "outputs": [],
   "source": [
    "#패키지 임포트\n",
    "import pandas as pd\n",
    "from neuralprophet import NeuralProphet, set_log_level\n",
    "set_log_level(\"ERROR\")\n",
    "\n",
    "#구글 드라이브 다운로드 패키지\n",
    "from google_drive_downloader import GoogleDriveDownloader as gdd\n",
    "\n",
    "#데이터 다운로드\n",
    "gdd.download_file_from_google_drive(file_id='1JRslcolP0XJDQKfXrYl82eyDTCETuzjl',\n",
    "                                    dest_path='data/energy.zip',\n",
    "                                    unzip=True)"
   ]
  },
  {
   "cell_type": "code",
   "execution_count": null,
   "id": "06209097-b8ee-4a16-a3a1-73cd1391800f",
   "metadata": {},
   "outputs": [],
   "source": [
    "train = pd.read_csv('train.csv',encoding='cp949')\n",
    "test = pd.read_csv('test.csv',encoding='cp949')"
   ]
  },
  {
   "cell_type": "code",
   "execution_count": null,
   "id": "6583eccc-2a96-477b-96d9-2667554deb43",
   "metadata": {},
   "outputs": [],
   "source": [
    "# 컬럼명 변환을 위한 리스트 할당\n",
    "train_col = ['num', 'date_time', 'power', 'temp', 'wind', 'hum', 'rain', 'sun', 'cooler', 'solar']\n",
    "test_col = ['num', 'date_time', 'temp', 'wind', 'hum', 'rain', 'sun', 'cooler', 'solar']\n",
    "train.columns=train_col\n",
    "test.columns=test_col"
   ]
  },
  {
   "cell_type": "code",
   "execution_count": null,
   "id": "1ba75d5e-46d7-4eaa-9a20-3b68bedc6442",
   "metadata": {},
   "outputs": [],
   "source": [
    "def make_nan(test):\n",
    "\n",
    "    # 결측치 처리\n",
    "    test['wind']=test['wind'].interpolate(method='linear')\n",
    "    test['rain']=test['rain'].interpolate(method='linear')\n",
    "    test['sun']=test['sun'].interpolate(method='linear')\n",
    "\n",
    "    test['temp']=test['temp'].interpolate(method='polynomial',order=3).fillna(method='ffill')\n",
    "    test['hum']=test['hum'].interpolate(method='polynomial',order=3).fillna(method='ffill')\n",
    "\n",
    "    test['cooler']=test['cooler'].fillna(0)\n",
    "    test['solar']=test['solar'].fillna(0)\n",
    "\n",
    "    return test"
   ]
  },
  {
   "cell_type": "code",
   "execution_count": null,
   "id": "d0f47a6c-ad1e-482e-b117-454b7c186cfa",
   "metadata": {},
   "outputs": [],
   "source": [
    "test=make_nan(test)"
   ]
  },
  {
   "cell_type": "code",
   "execution_count": null,
   "id": "db693a59-831b-4826-b6aa-98eec6929844",
   "metadata": {},
   "outputs": [],
   "source": [
    "pip install neuralprophet"
   ]
  },
  {
   "cell_type": "code",
   "execution_count": null,
   "id": "8bf051f6-e70a-40c4-9c85-c9d8b0a15928",
   "metadata": {},
   "outputs": [],
   "source": [
    "pred=[]\n",
    "for i in range(1,61):\n",
    "  train_d = pd.DataFrame({\"ds\": train[train['num']==i][\"date_time\"], \"y\": train[train['num']==i][\"power\"]})\n",
    "  tes_dt = pd.DataFrame({\"ds\": test[test['num']==i][\"date_time\"], \"y\": test[test['num']==i][\"power\"]})\n",
    "  #모델 설정\n",
    "  m = NeuralProphet(\n",
    "      learning_rate=0.1,\n",
    "  )\n",
    "  #모델 학습\n",
    "  metrics = m.fit(train_d, freq=\"H\")\n",
    "  test_pred = m.predict(tes_dt)\n",
    "  pred.append(test_pred)\n",
    "\n"
   ]
  },
  {
   "cell_type": "code",
   "execution_count": null,
   "id": "ae79ac44-58e8-461b-a275-648f1506c6e6",
   "metadata": {},
   "outputs": [],
   "source": [
    "# 'yhat1' 열을 추출할 리스트\n",
    "yhat1_list = []\n",
    "\n",
    "# pred 리스트에 있는 각 데이터프레임에서 'yhat1' 열을 추출\n",
    "for df in pred:\n",
    "    yhat1_list.append(df['yhat1'])"
   ]
  },
  {
   "cell_type": "code",
   "execution_count": null,
   "id": "a5271106-7dc3-455c-850f-ed7b4053fbd1",
   "metadata": {},
   "outputs": [],
   "source": [
    "submission=pd.read_csv('sample_submission.csv',encoding='cp949')"
   ]
  },
  {
   "cell_type": "code",
   "execution_count": null,
   "id": "f8c86971-d229-49e9-a02f-260a320ca8d9",
   "metadata": {},
   "outputs": [],
   "source": [
    "submission['answer']=pd.DataFrame(np.array(yhat1_list).flatten())"
   ]
  },
  {
   "cell_type": "markdown",
   "id": "1e64025c-1bf5-4140-b18f-2e9f96ddb766",
   "metadata": {
    "jp-MarkdownHeadingCollapsed": true
   },
   "source": [
    "## LSTM"
   ]
  },
  {
   "cell_type": "code",
   "execution_count": 5,
   "id": "1bb167cb-01ad-4299-bff6-c17d9b69978d",
   "metadata": {},
   "outputs": [
    {
     "name": "stderr",
     "output_type": "stream",
     "text": [
      "2023-10-31 06:48:59.655606: E tensorflow/compiler/xla/stream_executor/cuda/cuda_dnn.cc:9342] Unable to register cuDNN factory: Attempting to register factory for plugin cuDNN when one has already been registered\n",
      "2023-10-31 06:48:59.655671: E tensorflow/compiler/xla/stream_executor/cuda/cuda_fft.cc:609] Unable to register cuFFT factory: Attempting to register factory for plugin cuFFT when one has already been registered\n",
      "2023-10-31 06:48:59.655697: E tensorflow/compiler/xla/stream_executor/cuda/cuda_blas.cc:1518] Unable to register cuBLAS factory: Attempting to register factory for plugin cuBLAS when one has already been registered\n",
      "2023-10-31 06:48:59.663518: I tensorflow/core/platform/cpu_feature_guard.cc:182] This TensorFlow binary is optimized to use available CPU instructions in performance-critical operations.\n",
      "To enable the following instructions: AVX2 FMA, in other operations, rebuild TensorFlow with the appropriate compiler flags.\n",
      "2023-10-31 06:49:00.482915: W tensorflow/compiler/tf2tensorrt/utils/py_utils.cc:38] TF-TRT Warning: Could not find TensorRT\n"
     ]
    }
   ],
   "source": [
    "#Library Imports\n",
    "import numpy as np\n",
    "import pandas as pd\n",
    "import math\n",
    "import os\n",
    "import matplotlib.pyplot as plt\n",
    "\n",
    "from sklearn.metrics import mean_absolute_error\n",
    "\n",
    "#######딥러닝 라이브러리##########\n",
    "import tensorflow as tf\n",
    "from tensorflow import keras\n",
    "from tensorflow.keras.models import Sequential\n",
    "from tensorflow.keras.layers import Dense, LSTM, Reshape, GRU, RNN\n",
    "\n",
    "tf.keras.backend.set_floatx('float64')"
   ]
  },
  {
   "cell_type": "code",
   "execution_count": 6,
   "id": "6a8c8f60-1651-436a-9fbb-0a8632fe49d3",
   "metadata": {},
   "outputs": [
    {
     "name": "stdout",
     "output_type": "stream",
     "text": [
      "Defaulting to user installation because normal site-packages is not writeable\n",
      "Requirement already satisfied: koreanize-matplotlib in /home/jupyter-user01/.local/lib/python3.10/site-packages (0.1.1)\n",
      "Requirement already satisfied: matplotlib in /home/jupyter-user01/.local/lib/python3.10/site-packages (from koreanize-matplotlib) (3.8.0)\n",
      "Requirement already satisfied: contourpy>=1.0.1 in /home/jupyter-user01/.local/lib/python3.10/site-packages (from matplotlib->koreanize-matplotlib) (1.1.1)\n",
      "Requirement already satisfied: cycler>=0.10 in /home/jupyter-user01/.local/lib/python3.10/site-packages (from matplotlib->koreanize-matplotlib) (0.12.1)\n",
      "Requirement already satisfied: fonttools>=4.22.0 in /home/jupyter-user01/.local/lib/python3.10/site-packages (from matplotlib->koreanize-matplotlib) (4.43.1)\n",
      "Requirement already satisfied: kiwisolver>=1.0.1 in /home/jupyter-user01/.local/lib/python3.10/site-packages (from matplotlib->koreanize-matplotlib) (1.4.5)\n",
      "Requirement already satisfied: numpy<2,>=1.21 in /home/jupyter-user01/.local/lib/python3.10/site-packages (from matplotlib->koreanize-matplotlib) (1.23.5)\n",
      "Requirement already satisfied: packaging>=20.0 in /opt/tljh/user/lib/python3.10/site-packages (from matplotlib->koreanize-matplotlib) (23.2)\n",
      "Requirement already satisfied: pillow>=6.2.0 in /home/jupyter-user01/.local/lib/python3.10/site-packages (from matplotlib->koreanize-matplotlib) (10.1.0)\n",
      "Requirement already satisfied: pyparsing>=2.3.1 in /home/jupyter-user01/.local/lib/python3.10/site-packages (from matplotlib->koreanize-matplotlib) (3.1.1)\n",
      "Requirement already satisfied: python-dateutil>=2.7 in /opt/tljh/user/lib/python3.10/site-packages (from matplotlib->koreanize-matplotlib) (2.8.2)\n",
      "Requirement already satisfied: six>=1.5 in /opt/tljh/user/lib/python3.10/site-packages (from python-dateutil>=2.7->matplotlib->koreanize-matplotlib) (1.16.0)\n"
     ]
    }
   ],
   "source": [
    "# 맵플롯립 시각화 및 한국어 설정 (맷플롯립 시각화 시)\n",
    "import matplotlib.pyplot as plt\n",
    "\n",
    "# 브라우저에서 바로 그려지도록(그래프가 화면에 뜨지 않을 때)\n",
    "%matplotlib inline\n",
    "\n",
    "# 그래프(figure)에 retina display 적용\n",
    "%config InlineBackend.figure_format = 'retina'\n",
    "\n",
    "# Colab 의 한글 폰트 설정(나눔고딕체)\n",
    "plt.rc('font', family='NanumGothic')\n",
    "\n",
    "# 조용하 강사님이 올려주신 코드(한글화-matplotlib)\n",
    "!pip install koreanize-matplotlib\n",
    "import koreanize_matplotlib"
   ]
  },
  {
   "cell_type": "code",
   "execution_count": 7,
   "id": "87d764bb-a522-43d3-95a3-4436be430246",
   "metadata": {},
   "outputs": [],
   "source": [
    "train=pd.read_csv('train.csv', encoding = 'cp949')\n",
    "test=pd.read_csv('test.csv', encoding = 'cp949')\n",
    "submission=pd.read_csv('sample_submission.csv', encoding = 'cp949')"
   ]
  },
  {
   "cell_type": "code",
   "execution_count": 8,
   "id": "79d250c3-590f-40e5-a8c2-205507200328",
   "metadata": {},
   "outputs": [],
   "source": [
    "# 컬럼명 변환을 위한 리스트 할당\n",
    "train_col = ['num', 'date_time', 'power', 'temp', 'wind', 'hum', 'rain', 'sun', 'cooler', 'solar']\n",
    "test_col = ['num', 'date_time', 'temp', 'wind', 'hum', 'rain', 'sun', 'cooler', 'solar']\n",
    "train.columns=train_col\n",
    "test.columns=test_col"
   ]
  },
  {
   "cell_type": "code",
   "execution_count": 9,
   "id": "ad5d7401-563f-4bee-b2f2-e8af633f92d4",
   "metadata": {},
   "outputs": [],
   "source": [
    "def make_time(train):\n",
    "    \"\"\"\n",
    "    시간 관련 변수를 추가하기 위한 함수\n",
    "    \"\"\"\n",
    "    train['date_time'] = pd.to_datetime(train.date_time)\n",
    "    \n",
    "    train['month'] = train.date_time.dt.month                    # 월(숫자)\n",
    "    train['day'] = train.date_time.dt.day                        # 일(숫자)\n",
    "    train['hour'] = train.date_time.dt.hour                      # 시(숫자)\n",
    "    train['weekday'] = train.date_time.dt.weekday                # 요일(숫자)\n",
    "    train['dayofyear'] = train.date_time.dt.dayofyear            # 연 기준 몇일째(숫자)\n",
    "    # train['week']=train.date_time.dt.weekofyear\n",
    "    \n",
    "    ## cyclical encoding\n",
    "    train['sin_time'] = np.sin(2*np.pi*train.hour/24)\n",
    "    train['cos_time'] = np.cos(2*np.pi*train.hour/24)\n",
    "    \n",
    "    ### 공휴일 변수 추가\n",
    "    train['holiday'] = train.apply(lambda x : 0 if x['day']<5 else 1, axis = 1)\n",
    "    train.loc[('2020-08-17'<=train.date_time)&(train.date_time<'2020-08-18'), 'holiday'] = 1\n",
    "    \n",
    "    \n",
    "    ### 날씨 변수 추가\n",
    "    train['THI'] = 1.9*train['temp'] - 0.55*(1-train['hum'])*(1.8*train['temp']-26)+32                                # 불쾌지수\n",
    "    train['chill']=13.12+0.6215*train['temp']-11.37*train['wind']**0.16+0.3965*train['wind']**0.16*train['temp']        # 체감온도\n",
    "    \n",
    "    train['냉방도시'] = 0  # 냉방이 필요하지 않은 도시로 초기화\n",
    "\n",
    "    # 여름 동안 냉방이 필요한 도시로 설정\n",
    "    train.loc[(train['temp'] > 30) & (train['hum'] > 70), '냉방도시'] = 1\n",
    "    \n",
    "    return train"
   ]
  },
  {
   "cell_type": "code",
   "execution_count": 10,
   "id": "a1cfda8f-63a3-429c-bbd0-75638fef8398",
   "metadata": {},
   "outputs": [],
   "source": [
    "def make_nan(test):\n",
    "    \n",
    "    # 결측치 처리\n",
    "    test['wind']=test['wind'].interpolate(method='linear')\n",
    "    test['rain']=test['rain'].interpolate(method='linear')\n",
    "    test['sun']=test['sun'].interpolate(method='linear')\n",
    "    \n",
    "    test['temp']=test['temp'].interpolate(method='polynomial',order=3).fillna(method='ffill')\n",
    "    test['hum']=test['hum'].interpolate(method='polynomial',order=3).fillna(method='ffill')\n",
    "    \n",
    "    test['cooler']=test['cooler'].fillna(0)\n",
    "    test['solar']=test['solar'].fillna(0)\n",
    "    \n",
    "    return test"
   ]
  },
  {
   "cell_type": "code",
   "execution_count": 11,
   "id": "7de44ca9-1a57-4289-b02a-91ad4a6e1136",
   "metadata": {},
   "outputs": [],
   "source": [
    "train = make_time(train)\n",
    "#train = make_power(train)\n",
    "test = make_nan(test)\n",
    "test = make_time(test)"
   ]
  },
  {
   "cell_type": "code",
   "execution_count": 12,
   "id": "f1584e95-041b-4401-9829-75b1e4a7b189",
   "metadata": {},
   "outputs": [],
   "source": [
    "def make_weather(data):\n",
    "    weather=data.groupby(['num','dayofyear'])['temp'].agg({'max','min','mean'}).reset_index()\n",
    "    weather['temp_range']=weather['max']-weather['min']\n",
    "    \n",
    "    data=pd.merge(data,weather,on=['num','dayofyear'],how='left')\n",
    "    return data"
   ]
  },
  {
   "cell_type": "code",
   "execution_count": 13,
   "id": "31765f87-bebe-4b4b-a06a-61d710fa0efd",
   "metadata": {},
   "outputs": [],
   "source": [
    "#train = make_power(train)\n",
    "train = make_weather(train)\n",
    "test=make_weather(test)"
   ]
  },
  {
   "cell_type": "code",
   "execution_count": 14,
   "id": "55561626-851a-43ca-8ff2-59dd345274b9",
   "metadata": {},
   "outputs": [],
   "source": [
    "train=train[train['num']==1]\n",
    "test=test[test['num']==1]"
   ]
  },
  {
   "cell_type": "code",
   "execution_count": 15,
   "id": "2c7988f7-fbce-44c4-bc1e-53c58de7419b",
   "metadata": {},
   "outputs": [],
   "source": [
    "from sklearn.preprocessing import MinMaxScaler\n",
    "\n",
    "# 입력 변수 선택\n",
    "feature_cols = ['temp', 'wind', 'hum', 'rain', 'sun', 'cooler', 'holiday', 'THI', 'chill', '냉방도시', 'mean', 'min', 'max', 'temp_range','date_time']\n",
    "## 종속변수 선택\n",
    "label_cols = ['power']"
   ]
  },
  {
   "cell_type": "code",
   "execution_count": 16,
   "id": "24f9ad67-6d09-4509-83a1-8f4ea9c8193e",
   "metadata": {},
   "outputs": [],
   "source": [
    "feature_df = pd.DataFrame(train[feature_cols], columns=feature_cols).set_index('date_time')\n",
    "label_df = pd.DataFrame(train[label_cols], columns=label_cols)"
   ]
  },
  {
   "cell_type": "code",
   "execution_count": 21,
   "id": "4320a36d-f3cc-4dd1-acb2-c9cd6d13adc5",
   "metadata": {},
   "outputs": [],
   "source": [
    "## 딥러닝 학습을 위해 numpy array로 변환\n",
    "feature_np = feature_df.to_numpy()\n",
    "label_np = label_df.to_numpy()"
   ]
  },
  {
   "cell_type": "code",
   "execution_count": 24,
   "id": "41a1c19e-1548-49c6-9353-b7c9d8ccb361",
   "metadata": {},
   "outputs": [
    {
     "data": {
      "text/plain": [
       "(2040, 14)"
      ]
     },
     "execution_count": 24,
     "metadata": {},
     "output_type": "execute_result"
    }
   ],
   "source": [
    "feature_np.shape"
   ]
  },
  {
   "cell_type": "code",
   "execution_count": 19,
   "id": "1d547665-72cf-4b60-8edd-7438a38371a6",
   "metadata": {},
   "outputs": [
    {
     "data": {
      "text/html": [
       "<div>\n",
       "<style scoped>\n",
       "    .dataframe tbody tr th:only-of-type {\n",
       "        vertical-align: middle;\n",
       "    }\n",
       "\n",
       "    .dataframe tbody tr th {\n",
       "        vertical-align: top;\n",
       "    }\n",
       "\n",
       "    .dataframe thead th {\n",
       "        text-align: right;\n",
       "    }\n",
       "</style>\n",
       "<table border=\"1\" class=\"dataframe\">\n",
       "  <thead>\n",
       "    <tr style=\"text-align: right;\">\n",
       "      <th></th>\n",
       "      <th>power</th>\n",
       "    </tr>\n",
       "  </thead>\n",
       "  <tbody>\n",
       "    <tr>\n",
       "      <th>0</th>\n",
       "      <td>8179.056</td>\n",
       "    </tr>\n",
       "    <tr>\n",
       "      <th>1</th>\n",
       "      <td>8135.640</td>\n",
       "    </tr>\n",
       "    <tr>\n",
       "      <th>2</th>\n",
       "      <td>8107.128</td>\n",
       "    </tr>\n",
       "    <tr>\n",
       "      <th>3</th>\n",
       "      <td>8048.808</td>\n",
       "    </tr>\n",
       "    <tr>\n",
       "      <th>4</th>\n",
       "      <td>8043.624</td>\n",
       "    </tr>\n",
       "    <tr>\n",
       "      <th>...</th>\n",
       "      <td>...</td>\n",
       "    </tr>\n",
       "    <tr>\n",
       "      <th>2035</th>\n",
       "      <td>8714.952</td>\n",
       "    </tr>\n",
       "    <tr>\n",
       "      <th>2036</th>\n",
       "      <td>8740.224</td>\n",
       "    </tr>\n",
       "    <tr>\n",
       "      <th>2037</th>\n",
       "      <td>8730.504</td>\n",
       "    </tr>\n",
       "    <tr>\n",
       "      <th>2038</th>\n",
       "      <td>8725.968</td>\n",
       "    </tr>\n",
       "    <tr>\n",
       "      <th>2039</th>\n",
       "      <td>8705.232</td>\n",
       "    </tr>\n",
       "  </tbody>\n",
       "</table>\n",
       "<p>2040 rows × 1 columns</p>\n",
       "</div>"
      ],
      "text/plain": [
       "         power\n",
       "0     8179.056\n",
       "1     8135.640\n",
       "2     8107.128\n",
       "3     8048.808\n",
       "4     8043.624\n",
       "...        ...\n",
       "2035  8714.952\n",
       "2036  8740.224\n",
       "2037  8730.504\n",
       "2038  8725.968\n",
       "2039  8705.232\n",
       "\n",
       "[2040 rows x 1 columns]"
      ]
     },
     "execution_count": 19,
     "metadata": {},
     "output_type": "execute_result"
    }
   ],
   "source": [
    "label_df"
   ]
  },
  {
   "cell_type": "code",
   "execution_count": 23,
   "id": "b2c934a7-e7d3-4d35-82bb-7d3314166b04",
   "metadata": {},
   "outputs": [
    {
     "data": {
      "text/plain": [
       "(1000, 10, 1)"
      ]
     },
     "execution_count": 23,
     "metadata": {},
     "output_type": "execute_result"
    }
   ],
   "source": [
    "np.random.rand(1000, 10, 1).shape"
   ]
  },
  {
   "cell_type": "code",
   "execution_count": null,
   "id": "3a085e8b-dbbb-4a16-b40f-444d19ad8ca0",
   "metadata": {},
   "outputs": [],
   "source": [
    "import numpy as np\n",
    "import tensorflow as tf\n",
    "from tensorflow import keras\n",
    "from tensorflow.keras.models import Sequential\n",
    "from tensorflow.keras.layers import LSTM, Dense, TimeDistributed\n",
    "\n",
    "# 가상의 시계열 데이터 생성\n",
    "def generate_time_series(n_samples, n_timesteps, n_features, n_outputs):\n",
    "    X = np.random.rand(n_samples, n_timesteps, n_features)\n",
    "    y = np.random.rand(n_samples, n_outputs, n_features)\n",
    "    return X, y\n",
    "\n",
    "n_samples = label_df.shape[0]\n",
    "n_timesteps = 168\n",
    "n_features = 10\n",
    "n_outputs = 168  # 예제에서는 다음 5개 스텝을 예측\n",
    "\n",
    "X, y = generate_time_series(n_samples, n_timesteps, n_features, n_outputs)\n",
    "\n",
    "# 모델 구축\n",
    "model = Sequential()\n",
    "model.add(LSTM(50, activation='relu', return_sequences=True, input_shape=(n_timesteps, n_features)))\n",
    "model.add(TimeDistributed(Dense(n_features))  # TimeDistributed 레이어를 사용하여 각 스텝에 대한 출력을 생성\n",
    "model.compile(optimizer='adam', loss='mse')  # 회귀 문제이므로 평균 제곱 오차를 사용합니다.\n",
    "\n",
    "# 모델 훈련\n",
    "model.fit(X, y, epochs=10, batch_size=32)\n",
    "\n",
    "# 새로운 데이터에 대한 예측\n",
    "new_data = np.random.rand(1, n_timesteps, n_features)\n",
    "prediction = model.predict(new_data)\n",
    "\n",
    "print(f'Prediction: {prediction}')\n"
   ]
  },
  {
   "cell_type": "markdown",
   "id": "05232b99-303a-471c-838a-ed265135446b",
   "metadata": {
    "jp-MarkdownHeadingCollapsed": true
   },
   "source": [
    "## Arima"
   ]
  },
  {
   "cell_type": "code",
   "execution_count": null,
   "id": "991cfca3-23e8-444d-ae89-9e0816c4daf3",
   "metadata": {},
   "outputs": [],
   "source": [
    "#Library Imports\n",
    "import numpy as np\n",
    "import pandas as pd\n",
    "import math\n",
    "import os\n",
    "import matplotlib.pyplot as plt\n",
    "\n",
    "from sklearn.metrics import mean_absolute_error\n",
    "\n",
    "\n",
    "#######통계 라이브러리##########\n",
    "from statsmodels.tsa.arima.model import ARIMA"
   ]
  },
  {
   "cell_type": "code",
   "execution_count": null,
   "id": "30789b4d-7415-4401-93c4-ae12e121e4c4",
   "metadata": {},
   "outputs": [],
   "source": [
    "#2d의 데이터프레임을 건물별 정보를 반영한 3d 데이터로 변환\n",
    "def df2d_to_array3d(df_2d):\n",
    "    feature_size=df_2d.iloc[:,2:].shape[1]\n",
    "    time_size=len(df_2d['date_time'].value_counts())\n",
    "    sample_size=len(df_2d.num.value_counts())\n",
    "    return df_2d.iloc[:,2:].values.reshape([sample_size, time_size, feature_size])"
   ]
  },
  {
   "cell_type": "code",
   "execution_count": null,
   "id": "4d53f1bd-1590-42b8-8663-9ed5e007e5fb",
   "metadata": {},
   "outputs": [],
   "source": [
    "train_x_array=df2d_to_array3d(train)\n",
    "test_x_array=df2d_to_array3d(test)"
   ]
  },
  {
   "cell_type": "code",
   "execution_count": null,
   "id": "64ed598c-3b83-45dc-b63b-738e8c92b750",
   "metadata": {},
   "outputs": [],
   "source": [
    "def plot_series(x_series, y_series):\n",
    "    #입력 series와 출력 series를 연속적으로 연결하여 시각적으로 보여주는 코드 입니다.\n",
    "    plt.plot(x_series, label = 'input_series')\n",
    "    plt.plot(np.arange(len(x_series), len(x_series)+len(y_series)),\n",
    "             y_series, label = 'output_series')\n",
    "    plt.axhline(1, c = 'red')\n",
    "    plt.legend()"
   ]
  },
  {
   "cell_type": "code",
   "execution_count": null,
   "id": "b1e173e9-0aba-47ce-b5bb-95736a2db202",
   "metadata": {},
   "outputs": [],
   "source": [
    "idx=1\n",
    "x_series=train_x_array[idx, :, 0]\n",
    "model=ARIMA(x_series, order=(3, 0, 1))\n",
    "fit=model.fit()"
   ]
  },
  {
   "cell_type": "code",
   "execution_count": null,
   "id": "b45eee8e-f41b-4382-9c45-53b5ced4e1c7",
   "metadata": {},
   "outputs": [],
   "source": [
    "preds=fit.predict(1, 168, typ='levels')"
   ]
  },
  {
   "cell_type": "code",
   "execution_count": null,
   "id": "13166464-958d-4914-ab80-ff8070e3d7f7",
   "metadata": {},
   "outputs": [],
   "source": [
    "plt.plot(x_series, label = 'input_series')\n",
    "plt.plot(np.arange(2040, 2040+168), test_x_array[idx, :, 0], label='y')\n",
    "plt.plot(np.arange(2040, 2040+168), preds, label='prediction')\n",
    "plt.legend()"
   ]
  },
  {
   "cell_type": "code",
   "execution_count": null,
   "id": "15fb3c30-2bdf-4696-8b5f-54f9ac0b1295",
   "metadata": {},
   "outputs": [],
   "source": [
    "valid_pred_array=np.zeros([60, 168])\n",
    "for idx in range(train_x_array.shape[0]):\n",
    "    try:\n",
    "        try:\n",
    "            x_series=train_x_array[idx, :, 0]\n",
    "            model=ARIMA(x_series, order=(5, 1, 1))\n",
    "            fit=model.fit()\n",
    "            preds=fit.predict(1, 168, typ='levels')\n",
    "            valid_pred_array[idx, :]=preds\n",
    "        except:\n",
    "            print(\"order 4,1,1\")\n",
    "            \n",
    "            x_series=train_x_array[idx, :, 0]\n",
    "            model=ARIMA(x_series, order=(4, 1, 1))\n",
    "            fit=model.fit()\n",
    "            preds=fit.predict(1, 168, typ='levels')\n",
    "            valid_pred_array[idx, :]=preds\n",
    "    except:\n",
    "        print(idx, \"샘플은 수렴하지 않습니다.\")"
   ]
  },
  {
   "cell_type": "code",
   "execution_count": null,
   "id": "2d8ddf91-baf9-467d-9fb2-10cf17e807f6",
   "metadata": {},
   "outputs": [],
   "source": [
    "submission['answer']=valid_pred_array.reshape([-1,1])\n",
    "submission"
   ]
  },
  {
   "cell_type": "code",
   "execution_count": null,
   "id": "d7367cb7-fc60-449e-9328-06374834bfb5",
   "metadata": {},
   "outputs": [],
   "source": [
    "submission.to_csv('baseline_submission2.csv', index=False)"
   ]
  },
  {
   "cell_type": "code",
   "execution_count": null,
   "id": "12bdc92b-fa39-4db6-b242-948cf4f23211",
   "metadata": {},
   "outputs": [],
   "source": []
  }
 ],
 "metadata": {
  "kernelspec": {
   "display_name": "Python 3 (ipykernel)",
   "language": "python",
   "name": "python3"
  },
  "language_info": {
   "codemirror_mode": {
    "name": "ipython",
    "version": 3
   },
   "file_extension": ".py",
   "mimetype": "text/x-python",
   "name": "python",
   "nbconvert_exporter": "python",
   "pygments_lexer": "ipython3",
   "version": "3.10.10"
  }
 },
 "nbformat": 4,
 "nbformat_minor": 5
}
