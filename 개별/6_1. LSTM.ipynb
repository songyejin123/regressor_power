{
 "cells": [
  {
   "cell_type": "code",
   "execution_count": 5,
   "id": "8562811c-7614-465e-b704-4ae285bb7027",
   "metadata": {},
   "outputs": [
    {
     "name": "stderr",
     "output_type": "stream",
     "text": [
      "2023-10-31 06:48:59.655606: E tensorflow/compiler/xla/stream_executor/cuda/cuda_dnn.cc:9342] Unable to register cuDNN factory: Attempting to register factory for plugin cuDNN when one has already been registered\n",
      "2023-10-31 06:48:59.655671: E tensorflow/compiler/xla/stream_executor/cuda/cuda_fft.cc:609] Unable to register cuFFT factory: Attempting to register factory for plugin cuFFT when one has already been registered\n",
      "2023-10-31 06:48:59.655697: E tensorflow/compiler/xla/stream_executor/cuda/cuda_blas.cc:1518] Unable to register cuBLAS factory: Attempting to register factory for plugin cuBLAS when one has already been registered\n",
      "2023-10-31 06:48:59.663518: I tensorflow/core/platform/cpu_feature_guard.cc:182] This TensorFlow binary is optimized to use available CPU instructions in performance-critical operations.\n",
      "To enable the following instructions: AVX2 FMA, in other operations, rebuild TensorFlow with the appropriate compiler flags.\n",
      "2023-10-31 06:49:00.482915: W tensorflow/compiler/tf2tensorrt/utils/py_utils.cc:38] TF-TRT Warning: Could not find TensorRT\n"
     ]
    }
   ],
   "source": [
    "#Library Imports\n",
    "import numpy as np\n",
    "import pandas as pd\n",
    "import math\n",
    "import os\n",
    "import matplotlib.pyplot as plt\n",
    "\n",
    "from sklearn.metrics import mean_absolute_error\n",
    "\n",
    "#######딥러닝 라이브러리##########\n",
    "import tensorflow as tf\n",
    "from tensorflow import keras\n",
    "from tensorflow.keras.models import Sequential\n",
    "from tensorflow.keras.layers import Dense, LSTM, Reshape, GRU, RNN\n",
    "\n",
    "tf.keras.backend.set_floatx('float64')"
   ]
  },
  {
   "cell_type": "code",
   "execution_count": 6,
   "id": "d054cb82-c6b7-45b7-8bf4-d717b3f96b8c",
   "metadata": {},
   "outputs": [
    {
     "name": "stdout",
     "output_type": "stream",
     "text": [
      "Defaulting to user installation because normal site-packages is not writeable\n",
      "Requirement already satisfied: koreanize-matplotlib in /home/jupyter-user01/.local/lib/python3.10/site-packages (0.1.1)\n",
      "Requirement already satisfied: matplotlib in /home/jupyter-user01/.local/lib/python3.10/site-packages (from koreanize-matplotlib) (3.8.0)\n",
      "Requirement already satisfied: contourpy>=1.0.1 in /home/jupyter-user01/.local/lib/python3.10/site-packages (from matplotlib->koreanize-matplotlib) (1.1.1)\n",
      "Requirement already satisfied: cycler>=0.10 in /home/jupyter-user01/.local/lib/python3.10/site-packages (from matplotlib->koreanize-matplotlib) (0.12.1)\n",
      "Requirement already satisfied: fonttools>=4.22.0 in /home/jupyter-user01/.local/lib/python3.10/site-packages (from matplotlib->koreanize-matplotlib) (4.43.1)\n",
      "Requirement already satisfied: kiwisolver>=1.0.1 in /home/jupyter-user01/.local/lib/python3.10/site-packages (from matplotlib->koreanize-matplotlib) (1.4.5)\n",
      "Requirement already satisfied: numpy<2,>=1.21 in /home/jupyter-user01/.local/lib/python3.10/site-packages (from matplotlib->koreanize-matplotlib) (1.23.5)\n",
      "Requirement already satisfied: packaging>=20.0 in /opt/tljh/user/lib/python3.10/site-packages (from matplotlib->koreanize-matplotlib) (23.2)\n",
      "Requirement already satisfied: pillow>=6.2.0 in /home/jupyter-user01/.local/lib/python3.10/site-packages (from matplotlib->koreanize-matplotlib) (10.1.0)\n",
      "Requirement already satisfied: pyparsing>=2.3.1 in /home/jupyter-user01/.local/lib/python3.10/site-packages (from matplotlib->koreanize-matplotlib) (3.1.1)\n",
      "Requirement already satisfied: python-dateutil>=2.7 in /opt/tljh/user/lib/python3.10/site-packages (from matplotlib->koreanize-matplotlib) (2.8.2)\n",
      "Requirement already satisfied: six>=1.5 in /opt/tljh/user/lib/python3.10/site-packages (from python-dateutil>=2.7->matplotlib->koreanize-matplotlib) (1.16.0)\n"
     ]
    }
   ],
   "source": [
    "# 맵플롯립 시각화 및 한국어 설정 (맷플롯립 시각화 시)\n",
    "import matplotlib.pyplot as plt\n",
    "\n",
    "# 브라우저에서 바로 그려지도록(그래프가 화면에 뜨지 않을 때)\n",
    "%matplotlib inline\n",
    "\n",
    "# 그래프(figure)에 retina display 적용\n",
    "%config InlineBackend.figure_format = 'retina'\n",
    "\n",
    "# Colab 의 한글 폰트 설정(나눔고딕체)\n",
    "plt.rc('font', family='NanumGothic')\n",
    "\n",
    "# 조용하 강사님이 올려주신 코드(한글화-matplotlib)\n",
    "!pip install koreanize-matplotlib\n",
    "import koreanize_matplotlib"
   ]
  },
  {
   "cell_type": "code",
   "execution_count": 7,
   "id": "a7358a75-b4d4-420b-957a-8fff2da5b6ba",
   "metadata": {},
   "outputs": [],
   "source": [
    "train=pd.read_csv('train.csv', encoding = 'cp949')\n",
    "test=pd.read_csv('test.csv', encoding = 'cp949')\n",
    "submission=pd.read_csv('sample_submission.csv', encoding = 'cp949')"
   ]
  },
  {
   "cell_type": "code",
   "execution_count": 8,
   "id": "0db8b08b-c108-4d7b-99cd-426e7581e4d9",
   "metadata": {},
   "outputs": [],
   "source": [
    "# 컬럼명 변환을 위한 리스트 할당\n",
    "train_col = ['num', 'date_time', 'power', 'temp', 'wind', 'hum', 'rain', 'sun', 'cooler', 'solar']\n",
    "test_col = ['num', 'date_time', 'temp', 'wind', 'hum', 'rain', 'sun', 'cooler', 'solar']\n",
    "train.columns=train_col\n",
    "test.columns=test_col"
   ]
  },
  {
   "cell_type": "code",
   "execution_count": 9,
   "id": "35e9d255-d603-46b9-a635-36230f346815",
   "metadata": {},
   "outputs": [],
   "source": [
    "def make_time(train):\n",
    "    \"\"\"\n",
    "    시간 관련 변수를 추가하기 위한 함수\n",
    "    \"\"\"\n",
    "    train['date_time'] = pd.to_datetime(train.date_time)\n",
    "    \n",
    "    train['month'] = train.date_time.dt.month                    # 월(숫자)\n",
    "    train['day'] = train.date_time.dt.day                        # 일(숫자)\n",
    "    train['hour'] = train.date_time.dt.hour                      # 시(숫자)\n",
    "    train['weekday'] = train.date_time.dt.weekday                # 요일(숫자)\n",
    "    train['dayofyear'] = train.date_time.dt.dayofyear            # 연 기준 몇일째(숫자)\n",
    "    # train['week']=train.date_time.dt.weekofyear\n",
    "    \n",
    "    ## cyclical encoding\n",
    "    train['sin_time'] = np.sin(2*np.pi*train.hour/24)\n",
    "    train['cos_time'] = np.cos(2*np.pi*train.hour/24)\n",
    "    \n",
    "    ### 공휴일 변수 추가\n",
    "    train['holiday'] = train.apply(lambda x : 0 if x['day']<5 else 1, axis = 1)\n",
    "    train.loc[('2020-08-17'<=train.date_time)&(train.date_time<'2020-08-18'), 'holiday'] = 1\n",
    "    \n",
    "    \n",
    "    ### 날씨 변수 추가\n",
    "    train['THI'] = 1.9*train['temp'] - 0.55*(1-train['hum'])*(1.8*train['temp']-26)+32                                # 불쾌지수\n",
    "    train['chill']=13.12+0.6215*train['temp']-11.37*train['wind']**0.16+0.3965*train['wind']**0.16*train['temp']        # 체감온도\n",
    "    \n",
    "    train['냉방도시'] = 0  # 냉방이 필요하지 않은 도시로 초기화\n",
    "\n",
    "    # 여름 동안 냉방이 필요한 도시로 설정\n",
    "    train.loc[(train['temp'] > 30) & (train['hum'] > 70), '냉방도시'] = 1\n",
    "    \n",
    "    return train"
   ]
  },
  {
   "cell_type": "code",
   "execution_count": 10,
   "id": "caa5db6a-68ea-484c-8ed4-75d70ee09195",
   "metadata": {},
   "outputs": [],
   "source": [
    "def make_nan(test):\n",
    "    \n",
    "    # 결측치 처리\n",
    "    test['wind']=test['wind'].interpolate(method='linear')\n",
    "    test['rain']=test['rain'].interpolate(method='linear')\n",
    "    test['sun']=test['sun'].interpolate(method='linear')\n",
    "    \n",
    "    test['temp']=test['temp'].interpolate(method='polynomial',order=3).fillna(method='ffill')\n",
    "    test['hum']=test['hum'].interpolate(method='polynomial',order=3).fillna(method='ffill')\n",
    "    \n",
    "    test['cooler']=test['cooler'].fillna(0)\n",
    "    test['solar']=test['solar'].fillna(0)\n",
    "    \n",
    "    return test"
   ]
  },
  {
   "cell_type": "code",
   "execution_count": 11,
   "id": "fc57f7ae-b898-45eb-8cf0-85db5350c6eb",
   "metadata": {},
   "outputs": [],
   "source": [
    "train = make_time(train)\n",
    "#train = make_power(train)\n",
    "test = make_nan(test)\n",
    "test = make_time(test)"
   ]
  },
  {
   "cell_type": "code",
   "execution_count": 12,
   "id": "c7b82e03-580e-46c8-a476-8a52ab6b83c3",
   "metadata": {},
   "outputs": [],
   "source": [
    "def make_weather(data):\n",
    "    weather=data.groupby(['num','dayofyear'])['temp'].agg({'max','min','mean'}).reset_index()\n",
    "    weather['temp_range']=weather['max']-weather['min']\n",
    "    \n",
    "    data=pd.merge(data,weather,on=['num','dayofyear'],how='left')\n",
    "    return data"
   ]
  },
  {
   "cell_type": "code",
   "execution_count": 13,
   "id": "e907ded9-b8ba-40e6-85e3-85f9a106b2ad",
   "metadata": {},
   "outputs": [],
   "source": [
    "#train = make_power(train)\n",
    "train = make_weather(train)\n",
    "test=make_weather(test)"
   ]
  },
  {
   "cell_type": "code",
   "execution_count": 14,
   "id": "d34595ab-468a-455c-8da4-b24c423337b1",
   "metadata": {},
   "outputs": [],
   "source": [
    "train=train[train['num']==1]\n",
    "test=test[test['num']==1]"
   ]
  },
  {
   "cell_type": "code",
   "execution_count": 15,
   "id": "3be2f5a6-72d7-4eb9-9403-74617a55acc2",
   "metadata": {},
   "outputs": [],
   "source": [
    "from sklearn.preprocessing import MinMaxScaler\n",
    "\n",
    "# 입력 변수 선택\n",
    "feature_cols = ['temp', 'wind', 'hum', 'rain', 'sun', 'cooler', 'holiday', 'THI', 'chill', '냉방도시', 'mean', 'min', 'max', 'temp_range','date_time']\n",
    "## 종속변수 선택\n",
    "label_cols = ['power']"
   ]
  },
  {
   "cell_type": "code",
   "execution_count": 16,
   "id": "24e63e7b-014a-49e7-a68d-0b7b01f61eca",
   "metadata": {},
   "outputs": [],
   "source": [
    "feature_df = pd.DataFrame(train[feature_cols], columns=feature_cols).set_index('date_time')\n",
    "label_df = pd.DataFrame(train[label_cols], columns=label_cols)"
   ]
  },
  {
   "cell_type": "code",
   "execution_count": 21,
   "id": "b464abbd-4cd0-460a-b278-d0f38c5b7a83",
   "metadata": {},
   "outputs": [],
   "source": [
    "## 딥러닝 학습을 위해 numpy array로 변환\n",
    "feature_np = feature_df.to_numpy()\n",
    "label_np = label_df.to_numpy()"
   ]
  },
  {
   "cell_type": "code",
   "execution_count": 24,
   "id": "42483ab1-c1db-4d40-85d5-9f3b8be3394a",
   "metadata": {},
   "outputs": [
    {
     "data": {
      "text/plain": [
       "(2040, 14)"
      ]
     },
     "execution_count": 24,
     "metadata": {},
     "output_type": "execute_result"
    }
   ],
   "source": [
    "feature_np.shape"
   ]
  },
  {
   "cell_type": "code",
   "execution_count": 19,
   "id": "7b73cede-63a4-404b-88a7-82614a417ca5",
   "metadata": {},
   "outputs": [
    {
     "data": {
      "text/html": [
       "<div>\n",
       "<style scoped>\n",
       "    .dataframe tbody tr th:only-of-type {\n",
       "        vertical-align: middle;\n",
       "    }\n",
       "\n",
       "    .dataframe tbody tr th {\n",
       "        vertical-align: top;\n",
       "    }\n",
       "\n",
       "    .dataframe thead th {\n",
       "        text-align: right;\n",
       "    }\n",
       "</style>\n",
       "<table border=\"1\" class=\"dataframe\">\n",
       "  <thead>\n",
       "    <tr style=\"text-align: right;\">\n",
       "      <th></th>\n",
       "      <th>power</th>\n",
       "    </tr>\n",
       "  </thead>\n",
       "  <tbody>\n",
       "    <tr>\n",
       "      <th>0</th>\n",
       "      <td>8179.056</td>\n",
       "    </tr>\n",
       "    <tr>\n",
       "      <th>1</th>\n",
       "      <td>8135.640</td>\n",
       "    </tr>\n",
       "    <tr>\n",
       "      <th>2</th>\n",
       "      <td>8107.128</td>\n",
       "    </tr>\n",
       "    <tr>\n",
       "      <th>3</th>\n",
       "      <td>8048.808</td>\n",
       "    </tr>\n",
       "    <tr>\n",
       "      <th>4</th>\n",
       "      <td>8043.624</td>\n",
       "    </tr>\n",
       "    <tr>\n",
       "      <th>...</th>\n",
       "      <td>...</td>\n",
       "    </tr>\n",
       "    <tr>\n",
       "      <th>2035</th>\n",
       "      <td>8714.952</td>\n",
       "    </tr>\n",
       "    <tr>\n",
       "      <th>2036</th>\n",
       "      <td>8740.224</td>\n",
       "    </tr>\n",
       "    <tr>\n",
       "      <th>2037</th>\n",
       "      <td>8730.504</td>\n",
       "    </tr>\n",
       "    <tr>\n",
       "      <th>2038</th>\n",
       "      <td>8725.968</td>\n",
       "    </tr>\n",
       "    <tr>\n",
       "      <th>2039</th>\n",
       "      <td>8705.232</td>\n",
       "    </tr>\n",
       "  </tbody>\n",
       "</table>\n",
       "<p>2040 rows × 1 columns</p>\n",
       "</div>"
      ],
      "text/plain": [
       "         power\n",
       "0     8179.056\n",
       "1     8135.640\n",
       "2     8107.128\n",
       "3     8048.808\n",
       "4     8043.624\n",
       "...        ...\n",
       "2035  8714.952\n",
       "2036  8740.224\n",
       "2037  8730.504\n",
       "2038  8725.968\n",
       "2039  8705.232\n",
       "\n",
       "[2040 rows x 1 columns]"
      ]
     },
     "execution_count": 19,
     "metadata": {},
     "output_type": "execute_result"
    }
   ],
   "source": [
    "label_df"
   ]
  },
  {
   "cell_type": "code",
   "execution_count": 23,
   "id": "b1430aec-b27d-4eb4-82f2-a6d36f177cfa",
   "metadata": {},
   "outputs": [
    {
     "data": {
      "text/plain": [
       "(1000, 10, 1)"
      ]
     },
     "execution_count": 23,
     "metadata": {},
     "output_type": "execute_result"
    }
   ],
   "source": [
    "np.random.rand(1000, 10, 1).shape"
   ]
  },
  {
   "cell_type": "code",
   "execution_count": null,
   "id": "c89b3927-d08f-45a8-a11f-fe26b654d544",
   "metadata": {},
   "outputs": [],
   "source": [
    "import numpy as np\n",
    "import tensorflow as tf\n",
    "from tensorflow import keras\n",
    "from tensorflow.keras.models import Sequential\n",
    "from tensorflow.keras.layers import LSTM, Dense, TimeDistributed\n",
    "\n",
    "# 가상의 시계열 데이터 생성\n",
    "def generate_time_series(n_samples, n_timesteps, n_features, n_outputs):\n",
    "    X = np.random.rand(n_samples, n_timesteps, n_features)\n",
    "    y = np.random.rand(n_samples, n_outputs, n_features)\n",
    "    return X, y\n",
    "\n",
    "n_samples = label_df.shape[0]\n",
    "n_timesteps = 168\n",
    "n_features = 10\n",
    "n_outputs = 168  # 예제에서는 다음 5개 스텝을 예측\n",
    "\n",
    "X, y = generate_time_series(n_samples, n_timesteps, n_features, n_outputs)\n",
    "\n",
    "# 모델 구축\n",
    "model = Sequential()\n",
    "model.add(LSTM(50, activation='relu', return_sequences=True, input_shape=(n_timesteps, n_features)))\n",
    "model.add(TimeDistributed(Dense(n_features))  # TimeDistributed 레이어를 사용하여 각 스텝에 대한 출력을 생성\n",
    "model.compile(optimizer='adam', loss='mse')  # 회귀 문제이므로 평균 제곱 오차를 사용합니다.\n",
    "\n",
    "# 모델 훈련\n",
    "model.fit(X, y, epochs=10, batch_size=32)\n",
    "\n",
    "# 새로운 데이터에 대한 예측\n",
    "new_data = np.random.rand(1, n_timesteps, n_features)\n",
    "prediction = model.predict(new_data)\n",
    "\n",
    "print(f'Prediction: {prediction}')\n"
   ]
  },
  {
   "cell_type": "code",
   "execution_count": null,
   "id": "75a0c75e-2125-4584-95b5-5046e39aad8c",
   "metadata": {},
   "outputs": [],
   "source": []
  },
  {
   "cell_type": "code",
   "execution_count": null,
   "id": "725f5c63-8ac4-4a99-8399-d42f0ccea6a4",
   "metadata": {},
   "outputs": [],
   "source": []
  },
  {
   "cell_type": "code",
   "execution_count": null,
   "id": "12aa1489-a13d-49a5-8df0-a0d399b9d7af",
   "metadata": {},
   "outputs": [],
   "source": []
  },
  {
   "cell_type": "code",
   "execution_count": null,
   "id": "ef3d5d13-3af1-4013-a043-23c9d398d845",
   "metadata": {},
   "outputs": [],
   "source": []
  },
  {
   "cell_type": "code",
   "execution_count": null,
   "id": "430a0b93-2bc1-4469-963e-8a9f415d119f",
   "metadata": {},
   "outputs": [],
   "source": []
  },
  {
   "cell_type": "code",
   "execution_count": null,
   "id": "ad206584-2c22-4dfb-891b-669852b8a1bd",
   "metadata": {},
   "outputs": [],
   "source": []
  },
  {
   "cell_type": "code",
   "execution_count": null,
   "id": "c0fc83e7-fc6a-4f0c-97fb-bd23a52eb1b7",
   "metadata": {},
   "outputs": [],
   "source": []
  },
  {
   "cell_type": "code",
   "execution_count": null,
   "id": "448f9aa9-05e7-470e-8f20-1e07336ec232",
   "metadata": {},
   "outputs": [],
   "source": []
  }
 ],
 "metadata": {
  "kernelspec": {
   "display_name": "Python 3 (ipykernel)",
   "language": "python",
   "name": "python3"
  },
  "language_info": {
   "codemirror_mode": {
    "name": "ipython",
    "version": 3
   },
   "file_extension": ".py",
   "mimetype": "text/x-python",
   "name": "python",
   "nbconvert_exporter": "python",
   "pygments_lexer": "ipython3",
   "version": "3.10.10"
  }
 },
 "nbformat": 4,
 "nbformat_minor": 5
}
